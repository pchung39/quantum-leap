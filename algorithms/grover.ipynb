{
 "cells": [
  {
   "cell_type": "markdown",
   "metadata": {},
   "source": [
    "# Quantum Unstructured Search Algorithm (Grover's Algorithm)\n",
    "\n",
    "\n",
    "Some useful resources for understanding the implementation of Grover's algorithm:\n",
    "https://www.youtube.com/watch?v=AabglvQSBR4&list=PL74Rel4IAsETUwZS_Se_P-fSEyEVQwni7&index=46 \n",
    "\n",
    "\n",
    "## Problem Statement \n",
    "\n",
    "Given n input qubits (initialized to zero), Grover's algorithm will search an output an element in a \"database\". For example if you were looking for the element \"11\", in binary \"3\", Grover's algorithm will be able to find this element.  "
   ]
  },
  {
   "cell_type": "code",
   "execution_count": 30,
   "metadata": {},
   "outputs": [],
   "source": [
    "# install requirements\n",
    "import numpy as np\n",
    "from numpy import pi\n",
    "# importing Qiskit\n",
    "from qiskit import QuantumCircuit, execute, Aer, IBMQ\n",
    "from qiskit.providers.ibmq import least_busy\n",
    "from qiskit.tools.monitor import job_monitor\n",
    "from qiskit.visualization import plot_histogram, plot_bloch_multivector\n",
    "import matplotlib.pyplot as plt\n",
    "import numpy as np\n",
    "from qiskit.quantum_info.operators import Operator\n",
    "import operator\n",
    "%config InlineBackend.figure_format = 'svg' # Makes the images look nice"
   ]
  },
  {
   "cell_type": "markdown",
   "metadata": {},
   "source": [
    "# Algorithm Instructions\n",
    "\n",
    "There are two parts to this algorithm (aside from initialization):\n",
    "\n",
    "1. Amplitude Amplification\n",
    "2. Rotation about the Mean (this part can be rotated a number of times in order to increase the probability that the target element is returned)\n",
    "\n",
    "\n",
    "## Amplitude Amplification \n",
    "\n",
    "There are a few ways to implement this. One of those ways is to use the \"Phase Oracle\".\n",
    "\n",
    "For this example, i'm going to for go the phase oracle and apply a unitary matrix directly on the initialized qubits. We can use this method because amplitude amplification can be represented by a diagonal matrix will all elements $A_{ij} \\neq target$ can be 1, which means that the target will be -1. For example if my target is \"11\" (binary \"3\")\n",
    "\n",
    "The amplitude amplification can be represented by the matrix:\n",
    "\n",
    "$$\\begin{bmatrix} 1 & 0 & 0 & 0 \\\\ 0 & 1 & 0 & 0 \\\\ 0 & 0 & 1 & 0 \\\\ 0 & 0 & 0 & -1 \\end{bmatrix}$$\n"
   ]
  },
  {
   "cell_type": "code",
   "execution_count": 76,
   "metadata": {},
   "outputs": [
    {
     "ename": "SyntaxError",
     "evalue": "invalid syntax (<ipython-input-76-7c5ef082ecc9>, line 10)",
     "output_type": "error",
     "traceback": [
      "\u001b[0;36m  File \u001b[0;32m\"<ipython-input-76-7c5ef082ecc9>\"\u001b[0;36m, line \u001b[0;32m10\u001b[0m\n\u001b[0;31m    for x in range(n:\u001b[0m\n\u001b[0m                    ^\u001b[0m\n\u001b[0;31mSyntaxError\u001b[0m\u001b[0;31m:\u001b[0m invalid syntax\n"
     ]
    }
   ],
   "source": [
    "# test with 2 qubit example\n",
    "def grover():\n",
    "    n=3\n",
    "    qc = QuantumCircuit(n, n)\n",
    "    \n",
    "    # initialize qubits with \n",
    "    for x in range(n):\n",
    "        qc.h(x)\n",
    "    \n",
    "    for x in range(n):\n",
    "        grover_iteration(qc, n)\n",
    "\n",
    "    qc.measure(range(n), range(n))\n",
    "    \n",
    "    return qc\n",
    "\n",
    "\n",
    "def grover_iteration(qc, n):\n",
    "    \n",
    "    # amplitude amplification\n",
    "    oracle_matrix = np.identity(2**n)\n",
    "    # add the -1 phase to marked elements\n",
    "    oracle_matrix[5, 5] = -1\n",
    "\n",
    "    # convert your matrix (called oracle_matrix) into an operator, and add it to the quantum circuit\n",
    "    qc.unitary(Operator(oracle_matrix), range(n), label=\"amp amplf\")\n",
    "    \n",
    "    # reflection about 0 basis vector \n",
    "    refl = np.full((2**n,2**n), 2/(2**n), float)\n",
    "    refl[np.diag_indices_from(refl)] = (2/(2**n)) - 1\n",
    "    qc.unitary(Operator(refl), range(n), label=\"reflection\")\n",
    " \n",
    "    \n",
    "qc = grover()\n",
    "qc.draw(\"mpl\")\n",
    "\n",
    "\n",
    "simulator = Aer.get_backend('qasm_simulator')\n",
    "counts = execute(qc, backend=simulator, shots=1000).result().get_counts(qc)\n",
    "from qiskit.visualization import plot_histogram\n",
    "plot_histogram(counts)"
   ]
  },
  {
   "cell_type": "code",
   "execution_count": null,
   "metadata": {},
   "outputs": [],
   "source": []
  }
 ],
 "metadata": {
  "kernelspec": {
   "display_name": "Python 3",
   "language": "python",
   "name": "python3"
  },
  "language_info": {
   "codemirror_mode": {
    "name": "ipython",
    "version": 3
   },
   "file_extension": ".py",
   "mimetype": "text/x-python",
   "name": "python",
   "nbconvert_exporter": "python",
   "pygments_lexer": "ipython3",
   "version": "3.7.7"
  }
 },
 "nbformat": 4,
 "nbformat_minor": 4
}
